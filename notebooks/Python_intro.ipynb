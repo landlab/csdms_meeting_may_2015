{
 "cells": [
  {
   "cell_type": "markdown",
   "metadata": {},
   "source": [
    "# A super-brief intro to Python and Numpy"
   ]
  },
  {
   "cell_type": "markdown",
   "metadata": {},
   "source": [
    "Python is:\n",
    "* interpreted (high level)\n",
    "* readable\n",
    "* concise\n",
    "* cross-platform\n",
    "* dynamically-typed\n",
    "* object oriented\n",
    "* automatically memory-managed\n",
    "\n",
    "Almost all of the below is explained much more fully at various places online. Try:\n",
    "http://nbviewer.ipython.org/github/jrjohansson/scientific-python-lectures/tree/master/\n",
    "...for a nice entry level tutorial set, or the Software Carpentry intros:\n",
    "http://software-carpentry.org/v4/python/\n",
    "\n",
    "The main Python documentation is also an extremely readable source of knowledge. Just Google!"
   ]
  },
  {
   "cell_type": "markdown",
   "metadata": {},
   "source": [
    "##PROGRAM FILES AND INTERACTIVE ENVIRONMENTS\n",
    "Put Python code in .py text files (AKA \"scripts\").\n",
    "Run these from a shell, as:\n",
    "\n",
    "> python myscript.py\n",
    "\n",
    "OR\n",
    "\n",
    "Use one of Python's interactive environments (e.g., iPython)!\n",
    "\n",
    "> ipython\n",
    "\n",
    "In an interactive environment:\n",
    "\n",
    "* Run code line-by-line, preserving variables\n",
    "* Run your scripts, using the magic command \"%run\" (& preserve the variables)\n",
    "\n",
    "This iPython notebook is an interactive environment."
   ]
  },
  {
   "cell_type": "markdown",
   "metadata": {},
   "source": [
    "##MODULES\n",
    "Python has some built-in functions, but everything else comes in a library module.\n",
    "\n",
    "* See the built in functions here: https://docs.python.org/2/library/functions.html\n",
    "\n",
    "Modules are *imported*, then the functions they hold run with a *dot* syntax:"
   ]
  },
  {
   "cell_type": "code",
   "execution_count": null,
   "metadata": {
    "collapsed": false
   },
   "outputs": [],
   "source": [
    "import math  # comments with a hash\n",
    "x = math.cos(2. * math.pi)\n",
    "print x   # print is a built-in function"
   ]
  },
  {
   "cell_type": "markdown",
   "metadata": {},
   "source": [
    "OR import the functions and properties individually:"
   ]
  },
  {
   "cell_type": "code",
   "execution_count": null,
   "metadata": {
    "collapsed": false
   },
   "outputs": [],
   "source": [
    "from numpy import cos, pi #numpy, numeric python, also has these functions\n",
    "x = cos(2. * pi)\n",
    "print x"
   ]
  },
  {
   "cell_type": "markdown",
   "metadata": {},
   "source": [
    "Get help in an interactive shell with a trailing \"?\", quit it with \"q\""
   ]
  },
  {
   "cell_type": "code",
   "execution_count": null,
   "metadata": {
    "collapsed": true
   },
   "outputs": [],
   "source": [
    "pi?"
   ]
  },
  {
   "cell_type": "markdown",
   "metadata": {},
   "source": [
    "##TYPES\n",
    "Python distinguishes:\n",
    "* integer (int)\n",
    "* float (float)\n",
    "* boolean (bool)\n",
    "* complex (complex)\n",
    "* strings (str)\n",
    "\n",
    "You may also encounter numpy types, like \"numpy.float64\""
   ]
  },
  {
   "cell_type": "code",
   "execution_count": null,
   "metadata": {
    "collapsed": false
   },
   "outputs": [],
   "source": [
    "type(pi)"
   ]
  },
  {
   "cell_type": "markdown",
   "metadata": {},
   "source": [
    "Typecasting is automatic where possible, but can be time-expensive.\n",
    "\n",
    "Python's inbuilt *data structures* are:\n",
    "* tuples, with *parentheses* - immutable\n",
    "* lists, with *square brackets* - mutable\n",
    "* sets, as set() - unordered collection with no duplicates\n",
    "* dictionaries, with *curly brackets* - associated pairs of key:value\n",
    "\n",
    "Note that all these data structures let you happily mix data types... But the cost is that Python runs slower than, e.g., C++."
   ]
  },
  {
   "cell_type": "code",
   "execution_count": null,
   "metadata": {
    "collapsed": false
   },
   "outputs": [],
   "source": [
    "mytuple = (0,1,2,3)\n",
    "print 'You can index: ', mytuple[1]\n",
    "print '...but not reassign...'\n",
    "mytuple[0] = 100"
   ]
  },
  {
   "cell_type": "code",
   "execution_count": null,
   "metadata": {
    "collapsed": false
   },
   "outputs": [],
   "source": [
    "mylist = [0,1,2,3]\n",
    "print 'This time reassignment works: '\n",
    "mylist[0] = 'I can store a string!'\n",
    "print mylist"
   ]
  },
  {
   "cell_type": "code",
   "execution_count": null,
   "metadata": {
    "collapsed": false
   },
   "outputs": [],
   "source": [
    "myset = set([0,1,2,3])\n",
    "print myset\n",
    "myset.add(\"string!\") #you can use both ' and \" to declare a string\n",
    "print 'Adding is easy: ', myset\n",
    "myset.add(0)\n",
    "print \"But remember, duplicates don't count! \", myset"
   ]
  },
  {
   "cell_type": "code",
   "execution_count": null,
   "metadata": {
    "collapsed": false
   },
   "outputs": [],
   "source": [
    "mydict = {'firstkey':1, 'secondkey':2, 3:'three'}\n",
    "print mydict\n",
    "print mydict['firstkey']\n",
    "print mydict['secondkey']\n",
    "print mydict[3]\n",
    "print 'Get the keys (note lack of ordering): ', mydict.keys()\n",
    "print 'Get the values: ', mydict.values()\n",
    "print 'This will fail: ', mydict[2]"
   ]
  },
  {
   "cell_type": "markdown",
   "metadata": {},
   "source": [
    "## INDEXING\n",
    "* Indexing starts from 0\n",
    "* Index with square brackets [start (: stop(: step))]\n",
    "* \"stop\" is *exclusive* of the named index\n",
    "* Colon alone means \"all of these\" or \"to the start/end\""
   ]
  },
  {
   "cell_type": "code",
   "execution_count": null,
   "metadata": {
    "collapsed": false
   },
   "outputs": [],
   "source": [
    "x = range(10)\n",
    "print 'x[3] gives ', x[3]\n",
    "print 'x[1,5,2] gives ', x[1:5:2]\n",
    "print 'x[8:] gives ', x[8:]\n",
    "print 'x[:7] gives ', x[:7]\n",
    "print 'x[::3] gives ', x[::3]"
   ]
  },
  {
   "cell_type": "markdown",
   "metadata": {},
   "source": [
    "## PYTHON IS LIKE, BUT ISN'T, MATLAB\n",
    "- This is a *power*:"
   ]
  },
  {
   "cell_type": "code",
   "execution_count": null,
   "metadata": {
    "collapsed": true
   },
   "outputs": [],
   "source": [
    "x = 10.**2  #...or...\n",
    "import numpy as np\n",
    "x = np.square(10.)  # NEVER 10.^2."
   ]
  },
  {
   "cell_type": "markdown",
   "metadata": {},
   "source": [
    "Likewise, it's also useful to know about the \"truncation\" (//) and \"remainder\" (%) division operators:"
   ]
  },
  {
   "cell_type": "code",
   "execution_count": null,
   "metadata": {
    "collapsed": false
   },
   "outputs": [],
   "source": [
    "print 'truncate: ', 13//4\n",
    "print 'remainder: ', 13%4"
   ]
  },
  {
   "cell_type": "markdown",
   "metadata": {},
   "source": [
    "- End indices are NOT inclusive"
   ]
  },
  {
   "cell_type": "code",
   "execution_count": null,
   "metadata": {
    "collapsed": false
   },
   "outputs": [],
   "source": [
    "len(range(0,100)) #in Matlab this would be 101"
   ]
  },
  {
   "cell_type": "code",
   "execution_count": null,
   "metadata": {
    "collapsed": false
   },
   "outputs": [],
   "source": [
    "[x for x in xrange(5)]"
   ]
  },
  {
   "cell_type": "markdown",
   "metadata": {},
   "source": [
    "- Intelligent memory management means Python will pass objects *by reference* where possible:"
   ]
  },
  {
   "cell_type": "code",
   "execution_count": null,
   "metadata": {
    "collapsed": false
   },
   "outputs": [],
   "source": [
    "x = [0] * 3\n",
    "y = [1,2,3]\n",
    "print 'x starts as ', x\n",
    "print 'y starts as ', y\n",
    "x = y\n",
    "print 'After setting equal, x is ', x\n",
    "y[1] = 100\n",
    "print 'After modifying y, x is ', x\n",
    "#force a copy with [:]\n",
    "x = y[:]\n",
    "y[1] = 1000000\n",
    "print 'After forcing a copy, x is still ', x, ' but y is now ', y"
   ]
  },
  {
   "cell_type": "markdown",
   "metadata": {},
   "source": [
    "- As long as you assign to a variable, Python doesn't output by default, so lines don't have to terminate in \";\""
   ]
  },
  {
   "cell_type": "code",
   "execution_count": null,
   "metadata": {
    "collapsed": false
   },
   "outputs": [],
   "source": [
    "x = range(10) #...see?"
   ]
  },
  {
   "cell_type": "markdown",
   "metadata": {},
   "source": [
    "- Python doesn't use brackets to delineate code blocks. It uses *indentation* with a fixed number of spaces (normally 4). This also applies to for loops, while loops, if statements, try/except statements, class declarations, function declarations, etc etc."
   ]
  },
  {
   "cell_type": "code",
   "execution_count": null,
   "metadata": {
    "collapsed": false
   },
   "outputs": [],
   "source": [
    "def myfunction(arg1, arg2, **kwds):\n",
    "    # **kwds is a special (optional) dictionary input type,\n",
    "    # that you can use as an input \"wildcard\"\n",
    "    try:\n",
    "        print_this = kwds['printy']\n",
    "    except KeyError:\n",
    "        x = arg1 * arg2\n",
    "        return x  #...no brackets needed; both lines have 4 space indents\n",
    "    else:\n",
    "        print print_this\n",
    "\n",
    "print 'first time ', myfunction(3.,4.)\n",
    "print 'second time... '\n",
    "myfunction(5,6,printy='Printed this time!')"
   ]
  },
  {
   "cell_type": "markdown",
   "metadata": {},
   "source": [
    "- Python's plotting is a blatant clone of matlab's, and lives in the library matplotlib.pyplot:"
   ]
  },
  {
   "cell_type": "code",
   "execution_count": null,
   "metadata": {
    "collapsed": false
   },
   "outputs": [],
   "source": [
    "%matplotlib inline\n",
    "#that command tells this notebook to put plots into the notebook\n",
    "import matplotlib.pyplot as plt\n",
    "import numpy as np\n",
    "x = np.arange(10.) #like range()\n",
    "y = np.random.rand(10.) #ten random floats, 0->1\n",
    "plt.plot(x,y, '*--')\n",
    "plt.xlabel('xaxis')\n",
    "plt.ylabel('yaxis')\n",
    "plt.title('my plot!')"
   ]
  },
  {
   "cell_type": "markdown",
   "metadata": {
    "collapsed": true
   },
   "source": [
    "## NUMPY and LANDLAB"
   ]
  },
  {
   "cell_type": "code",
   "execution_count": null,
   "metadata": {
    "collapsed": true
   },
   "outputs": [],
   "source": []
  }
 ],
 "metadata": {
  "kernelspec": {
   "display_name": "Python 2",
   "language": "python",
   "name": "python2"
  },
  "language_info": {
   "codemirror_mode": {
    "name": "ipython",
    "version": 2
   },
   "file_extension": ".py",
   "mimetype": "text/x-python",
   "name": "python",
   "nbconvert_exporter": "python",
   "pygments_lexer": "ipython2",
   "version": "2.7.9"
  }
 },
 "nbformat": 4,
 "nbformat_minor": 0
}
